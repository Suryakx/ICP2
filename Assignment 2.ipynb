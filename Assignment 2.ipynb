{
  "nbformat": 4,
  "nbformat_minor": 0,
  "metadata": {
    "colab": {
      "provenance": []
    },
    "kernelspec": {
      "name": "python3",
      "display_name": "Python 3"
    },
    "language_info": {
      "name": "python"
    }
  },
  "cells": [
    {
      "cell_type": "code",
      "execution_count": 1,
      "metadata": {
        "colab": {
          "base_uri": "https://localhost:8080/"
        },
        "id": "itWIV-e87H-_",
        "outputId": "3e85789b-bf8a-4308-9b7a-f4fcdd8b9d89"
      },
      "outputs": [
        {
          "output_type": "stream",
          "name": "stdout",
          "text": [
            "* \n",
            "* * \n",
            "* * * \n",
            "* * * * \n",
            "* * * * * \n",
            "* * * * \n",
            "* * * \n",
            "* * \n",
            "* \n"
          ]
        }
      ],
      "source": [
        "rows = 5\n",
        "\n",
        "for i in range(rows):\n",
        "    print(\"* \" * (i + 1))\n",
        "\n",
        "for i in range(rows - 2, -1, -1):\n",
        "    print(\"* \" * (i + 1))"
      ]
    },
    {
      "cell_type": "code",
      "source": [
        "my_list = [10, 20, 30, 40, 50, 60, 70, 80, 90, 100]\n",
        "\n",
        "for i in range(len(my_list)):\n",
        "    if i % 2 != 0:\n",
        "        print(my_list[i])"
      ],
      "metadata": {
        "colab": {
          "base_uri": "https://localhost:8080/"
        },
        "id": "t-QkI3KU7fLm",
        "outputId": "3a432550-659a-48c7-9b8b-5f7ae7abb0b3"
      },
      "execution_count": 2,
      "outputs": [
        {
          "output_type": "stream",
          "name": "stdout",
          "text": [
            "20\n",
            "40\n",
            "60\n",
            "80\n",
            "100\n"
          ]
        }
      ]
    },
    {
      "cell_type": "code",
      "source": [
        "x = [23, 'Python', 23.98]\n",
        "types_list = [type(element) for element in x]\n",
        "\n",
        "print(x)\n",
        "\n",
        "print(types_list)\n"
      ],
      "metadata": {
        "colab": {
          "base_uri": "https://localhost:8080/"
        },
        "id": "pNbRKt4X75v-",
        "outputId": "dcf9c62d-422c-40b4-8b87-87a3690bd8b8"
      },
      "execution_count": 1,
      "outputs": [
        {
          "output_type": "stream",
          "name": "stdout",
          "text": [
            "[23, 'Python', 23.98]\n",
            "[<class 'int'>, <class 'str'>, <class 'float'>]\n"
          ]
        }
      ]
    },
    {
      "cell_type": "code",
      "source": [
        "def get_unique_elements(lst):\n",
        "    unique_list = []\n",
        "    for item in lst:\n",
        "        if item not in unique_list:\n",
        "            unique_list.append(item)\n",
        "    return unique_list\n",
        "\n",
        "list = [1, 2, 3, 3, 3, 3, 4, 5]\n",
        "unique_list = get_unique_elements(list)\n",
        "print(\"List:\", list)\n",
        "print(\"List:\", unique_list)"
      ],
      "metadata": {
        "colab": {
          "base_uri": "https://localhost:8080/"
        },
        "id": "S4qAq8QIQ32n",
        "outputId": "bbcc66c5-6726-46b6-e488-44cd91f1c9a3"
      },
      "execution_count": 2,
      "outputs": [
        {
          "output_type": "stream",
          "name": "stdout",
          "text": [
            "List: [1, 2, 3, 3, 3, 3, 4, 5]\n",
            "List: [1, 2, 3, 4, 5]\n"
          ]
        }
      ]
    },
    {
      "cell_type": "code",
      "source": [
        "def count_case(string):\n",
        "    uppercase_count = 0\n",
        "    lowercase_count = 0\n",
        "\n",
        "    for char in string:\n",
        "        if char.isupper():\n",
        "            uppercase_count += 1\n",
        "        elif char.islower():\n",
        "            lowercase_count += 1\n",
        "\n",
        "    print(f\"No. of Upper-case characters: {uppercase_count}\")\n",
        "    print(f\"No. of Lower-case characters: {lowercase_count}\")\n",
        "\n",
        "input_string = 'The quick Brow Fox'\n",
        "count_case(input_string)"
      ],
      "metadata": {
        "colab": {
          "base_uri": "https://localhost:8080/"
        },
        "id": "6xLxZc5bRxSU",
        "outputId": "f6d78bca-0bfa-4b37-f906-f57d51b4db1e"
      },
      "execution_count": 3,
      "outputs": [
        {
          "output_type": "stream",
          "name": "stdout",
          "text": [
            "No. of Upper-case characters: 3\n",
            "No. of Lower-case characters: 12\n"
          ]
        }
      ]
    }
  ]
}